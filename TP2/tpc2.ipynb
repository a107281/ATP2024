{
 "cells": [
  {
   "cell_type": "markdown",
   "metadata": {},
   "source": [
    "## Exercício TPC2"
   ]
  },
  {
   "cell_type": "code",
   "execution_count": 4,
   "metadata": {},
   "outputs": [
    {
     "name": "stdout",
     "output_type": "stream",
     "text": [
      "Bem-vindo! Este é o Jogo do 'Adivinha o Número'!\n",
      "Adivinha o número em que estou a pensar. Está entre 0 e 100.\n",
      "O número que pensei é menor.\n",
      "O número que pensei é menor.\n",
      "O número que pensei é menor.\n",
      "O número que pensei é maior.\n",
      "Acertou! O número que pensei era 9.\n",
      "Precisou de 4 tentativas.\n"
     ]
    }
   ],
   "source": [
    "# Solução do TPC2\n",
    "\n",
    "print(\"Bem-vindo! Este é o Jogo do 'Adivinha o Número'!\")\n",
    "print(\"Adivinha o número em que estou a pensar. Está entre 0 e 100.\")\n",
    "\n",
    "import random\n",
    "numero = random.randint(0,100)\n",
    "\n",
    "t = 1\n",
    "adivinha = int(input(\"Adivinha o número em que estou a pensar. Está entre 0 e 100.\"))\n",
    "\n",
    "\n",
    "while adivinha != numero:\n",
    "    if adivinha > numero:\n",
    "        adivinha = int(input(\"O número em que pensei é menor.\"))\n",
    "        print(\"O número que pensei é menor.\")\n",
    "    if adivinha < numero:\n",
    "        adivinha = int(input(\"O número que pensei é maior.\"))\n",
    "        print(\"O número que pensei é maior.\")\n",
    "    t = t + 1\n",
    "\n",
    "print(f\"Acertou! O número que pensei era {numero}.\")\n",
    "print(f\"Precisou de {t} tentativas.\")\n"
   ]
  }
 ],
 "metadata": {
  "kernelspec": {
   "display_name": "Python 3",
   "language": "python",
   "name": "python3"
  },
  "language_info": {
   "codemirror_mode": {
    "name": "ipython",
    "version": 3
   },
   "file_extension": ".py",
   "mimetype": "text/x-python",
   "name": "python",
   "nbconvert_exporter": "python",
   "pygments_lexer": "ipython3",
   "version": "3.12.6"
  }
 },
 "nbformat": 4,
 "nbformat_minor": 2
}
