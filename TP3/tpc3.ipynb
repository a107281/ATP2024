{
 "cells": [
  {
   "cell_type": "markdown",
   "metadata": {},
   "source": [
    "## TPC3: Jogo dos 21 fósforos\n",
    "\n",
    "Desenvolve em Python o código necessário para o jogo dos 21 fósforos: \n",
    "\n",
    "### O jogo\n",
    "\n",
    "* No início do jogo, há 21 fósforos;\n",
    "* Cada jogador (computador ou utilizador), pode tirar 1, 2, 3 ou 4 fósforos quando for a sua vez de jogar;\n",
    "* Os jogadores jogam alternadamente;\n",
    "* **Quem tirar o último fósforo perde!**\n",
    "\n",
    "### O programa \n",
    "\n",
    "* O jogo deverá ter dois modos: o jogador joga em primeiro lugar e o computador começa a jogar em segundo lugar e, no segundo modo, o computador começa em primeiro; \n",
    "* Quando o computador começa a jogar em segundo lugar, deve ganhar sempre o jogo;\n",
    "* Quando o computador começa a jogar em primeiro lugar, se o utilizador cometer um erro de cálculo, o computador deverá passar para a posição de vencedor e ganhar o jogo."
   ]
  },
  {
   "cell_type": "markdown",
   "metadata": {},
   "source": [
    "## TPC3: \"O jogo dos 21 fósforos\""
   ]
  },
  {
   "cell_type": "code",
   "execution_count": 10,
   "metadata": {},
   "outputs": [
    {
     "name": "stdout",
     "output_type": "stream",
     "text": [
      "Bem-vindo ao Jogo dos 21 Fósforos!\n",
      "Começa por escolher o modo que queres jogar:\n",
      "1 - O Jogador começa primeiro\n",
      "2 - O Computador começa primeiro\n",
      "O Computador retirou 4 fósforos.\n",
      "O Computador retirou 3 fósforos.\n",
      "O Computador retirou 4 fósforos.\n",
      "O Computador retirou 3 fósforos.\n",
      "Perdeste! O computador venceu.\n"
     ]
    }
   ],
   "source": [
    "#Solução do TPC3\n",
    "\n",
    "import random\n",
    "\n",
    "def computador_1(fosforos):\n",
    "    jogada = (fosforos-1) % 5\n",
    "    if jogada == 0:\n",
    "        jogada = random.randint(1,4)\n",
    "    print(f\"O Computador retirou {jogada} fósforos.\")\n",
    "    return jogada\n",
    "\n",
    "def modo_jogador_1():\n",
    "    fosforos = 21\n",
    "    while fosforos > 0:\n",
    "        jogada_jogador = jogador_1(fosforos)\n",
    "        fosforos = fosforos - jogada_jogador\n",
    "        if fosforos == 0:\n",
    "            print(\"Perdeste! O computador venceu.\")\n",
    "            return\n",
    "        \n",
    "        jogada_computador = computador_1(fosforos)\n",
    "        fosforos = fosforos - jogada_computador\n",
    "        if fosforos == 0:\n",
    "            print(\"O computador perdeu! Ganhaste o jogo!\")\n",
    "            return\n",
    "\n",
    "def modo_computador_1():\n",
    "    fosforos = 21\n",
    "    while fosforos > 0:\n",
    "        jogada_computador = computador_1(fosforos)\n",
    "        fosforos = fosforos - jogada_computador\n",
    "        if fosforos == 0:\n",
    "            print(\"O computador perdeu! Ganhaste o jogo!\")\n",
    "            return\n",
    "\n",
    "        jogada_jogador = jogador_1(fosforos)\n",
    "        fosforos = fosforos - jogada_jogador\n",
    "        if fosforos == 0:\n",
    "            print(\"Perdeste! O computador venceu.\")\n",
    "            return\n",
    "\n",
    "def comecar_jogo():\n",
    "    print(\"Bem-vindo ao Jogo dos 21 Fósforos!\")\n",
    "    print(\"Começa por escolher o modo que queres jogar:\")\n",
    "    print(\"1 - O Jogador começa primeiro\")\n",
    "    print(\"2 - O Computador começa primeiro\")\n",
    "    \n",
    "    while True:\n",
    "        escolha = input(\"Escolhe o modo de jogo (1 ou 2): \")\n",
    "        if escolha == \"1\":\n",
    "            modo_jogador_1()\n",
    "            break\n",
    "        elif escolha == \"2\":\n",
    "            modo_computador_1()\n",
    "            break\n",
    "        else:\n",
    "            print(\"Escolha inválida. Por favor, escolhe 1 ou 2.\")\n",
    "\n",
    "\n",
    "comecar_jogo()\n"
   ]
  }
 ],
 "metadata": {
  "kernelspec": {
   "display_name": "Python 3",
   "language": "python",
   "name": "python3"
  },
  "language_info": {
   "codemirror_mode": {
    "name": "ipython",
    "version": 3
   },
   "file_extension": ".py",
   "mimetype": "text/x-python",
   "name": "python",
   "nbconvert_exporter": "python",
   "pygments_lexer": "ipython3",
   "version": "3.12.6"
  }
 },
 "nbformat": 4,
 "nbformat_minor": 2
}
